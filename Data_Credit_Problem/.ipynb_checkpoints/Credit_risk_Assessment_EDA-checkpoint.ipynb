{
 "cells": [
  {
   "cell_type": "markdown",
   "metadata": {},
   "source": [
    "<h2>Importing libraries"
   ]
  },
  {
   "cell_type": "code",
   "execution_count": 1,
   "metadata": {},
   "outputs": [],
   "source": [
    "import pandas as pd\n",
    "import numpy as np\n",
    "from matplotlib import pyplot as plt\n",
    "import seaborn as sns"
   ]
  },
  {
   "cell_type": "markdown",
   "metadata": {},
   "source": [
    "<h2>Loading Data"
   ]
  },
  {
   "cell_type": "code",
   "execution_count": 2,
   "metadata": {},
   "outputs": [
    {
     "name": "stderr",
     "output_type": "stream",
     "text": [
      "G:\\Anaconda\\lib\\site-packages\\IPython\\core\\interactiveshell.py:3057: DtypeWarning: Columns (204,249) have mixed types. Specify dtype option on import or set low_memory=False.\n",
      "  interactivity=interactivity, compiler=compiler, result=result)\n"
     ]
    }
   ],
   "source": [
    "raw_loans = pd.read_csv(\"data_loans_5k.csv\")\n",
    "raw_assessments = pd.read_csv(\"data_assessments_5k.csv\")"
   ]
  },
  {
   "cell_type": "code",
   "execution_count": 3,
   "metadata": {},
   "outputs": [
    {
     "data": {
      "text/plain": [
       "Index(['boost_loan_id', 'max_dpd', 'current_dpd', 'no_of_paid_installments',\n",
       "       'no_of_missed_installments', 'is_non_starter', 'amount', 'disbursed_at',\n",
       "       'emi_amount', 'master_user_id', 'period'],\n",
       "      dtype='object')"
      ]
     },
     "execution_count": 3,
     "metadata": {},
     "output_type": "execute_result"
    }
   ],
   "source": [
    "raw_loans.columns"
   ]
  },
  {
   "cell_type": "code",
   "execution_count": 4,
   "metadata": {},
   "outputs": [
    {
     "data": {
      "text/html": [
       "<div>\n",
       "<style scoped>\n",
       "    .dataframe tbody tr th:only-of-type {\n",
       "        vertical-align: middle;\n",
       "    }\n",
       "\n",
       "    .dataframe tbody tr th {\n",
       "        vertical-align: top;\n",
       "    }\n",
       "\n",
       "    .dataframe thead th {\n",
       "        text-align: right;\n",
       "    }\n",
       "</style>\n",
       "<table border=\"1\" class=\"dataframe\">\n",
       "  <thead>\n",
       "    <tr style=\"text-align: right;\">\n",
       "      <th></th>\n",
       "      <th>boost_loan_id</th>\n",
       "      <th>max_dpd</th>\n",
       "      <th>current_dpd</th>\n",
       "      <th>no_of_paid_installments</th>\n",
       "      <th>no_of_missed_installments</th>\n",
       "      <th>amount</th>\n",
       "      <th>emi_amount</th>\n",
       "      <th>master_user_id</th>\n",
       "      <th>period</th>\n",
       "    </tr>\n",
       "  </thead>\n",
       "  <tbody>\n",
       "    <tr>\n",
       "      <th>count</th>\n",
       "      <td>4999.000000</td>\n",
       "      <td>4999.000000</td>\n",
       "      <td>4999.000000</td>\n",
       "      <td>4999.000000</td>\n",
       "      <td>4999.000000</td>\n",
       "      <td>4999.000000</td>\n",
       "      <td>4999.000000</td>\n",
       "      <td>4999.000000</td>\n",
       "      <td>4999.000000</td>\n",
       "    </tr>\n",
       "    <tr>\n",
       "      <th>mean</th>\n",
       "      <td>2500.000000</td>\n",
       "      <td>47.339068</td>\n",
       "      <td>37.040808</td>\n",
       "      <td>5.629326</td>\n",
       "      <td>0.730546</td>\n",
       "      <td>32746.130026</td>\n",
       "      <td>4678.516005</td>\n",
       "      <td>1917.337267</td>\n",
       "      <td>7.312462</td>\n",
       "    </tr>\n",
       "    <tr>\n",
       "      <th>std</th>\n",
       "      <td>1443.231328</td>\n",
       "      <td>89.793307</td>\n",
       "      <td>90.237062</td>\n",
       "      <td>2.593978</td>\n",
       "      <td>1.751810</td>\n",
       "      <td>20635.412033</td>\n",
       "      <td>2457.454784</td>\n",
       "      <td>1286.778384</td>\n",
       "      <td>2.332845</td>\n",
       "    </tr>\n",
       "    <tr>\n",
       "      <th>min</th>\n",
       "      <td>1.000000</td>\n",
       "      <td>-39.000000</td>\n",
       "      <td>0.000000</td>\n",
       "      <td>0.000000</td>\n",
       "      <td>0.000000</td>\n",
       "      <td>4500.000000</td>\n",
       "      <td>26.560000</td>\n",
       "      <td>1.000000</td>\n",
       "      <td>3.000000</td>\n",
       "    </tr>\n",
       "    <tr>\n",
       "      <th>25%</th>\n",
       "      <td>1250.500000</td>\n",
       "      <td>1.000000</td>\n",
       "      <td>0.000000</td>\n",
       "      <td>3.000000</td>\n",
       "      <td>0.000000</td>\n",
       "      <td>15000.000000</td>\n",
       "      <td>2770.960000</td>\n",
       "      <td>794.000000</td>\n",
       "      <td>6.000000</td>\n",
       "    </tr>\n",
       "    <tr>\n",
       "      <th>50%</th>\n",
       "      <td>2500.000000</td>\n",
       "      <td>4.000000</td>\n",
       "      <td>0.000000</td>\n",
       "      <td>6.000000</td>\n",
       "      <td>0.000000</td>\n",
       "      <td>30000.000000</td>\n",
       "      <td>4165.520000</td>\n",
       "      <td>1711.000000</td>\n",
       "      <td>9.000000</td>\n",
       "    </tr>\n",
       "    <tr>\n",
       "      <th>75%</th>\n",
       "      <td>3749.500000</td>\n",
       "      <td>35.000000</td>\n",
       "      <td>4.000000</td>\n",
       "      <td>8.000000</td>\n",
       "      <td>0.000000</td>\n",
       "      <td>50000.000000</td>\n",
       "      <td>6125.770000</td>\n",
       "      <td>2991.500000</td>\n",
       "      <td>9.000000</td>\n",
       "    </tr>\n",
       "    <tr>\n",
       "      <th>max</th>\n",
       "      <td>4999.000000</td>\n",
       "      <td>583.000000</td>\n",
       "      <td>583.000000</td>\n",
       "      <td>9.000000</td>\n",
       "      <td>9.000000</td>\n",
       "      <td>200000.000000</td>\n",
       "      <td>34810.640000</td>\n",
       "      <td>4458.000000</td>\n",
       "      <td>24.000000</td>\n",
       "    </tr>\n",
       "  </tbody>\n",
       "</table>\n",
       "</div>"
      ],
      "text/plain": [
       "       boost_loan_id      max_dpd  current_dpd  no_of_paid_installments  \\\n",
       "count    4999.000000  4999.000000  4999.000000              4999.000000   \n",
       "mean     2500.000000    47.339068    37.040808                 5.629326   \n",
       "std      1443.231328    89.793307    90.237062                 2.593978   \n",
       "min         1.000000   -39.000000     0.000000                 0.000000   \n",
       "25%      1250.500000     1.000000     0.000000                 3.000000   \n",
       "50%      2500.000000     4.000000     0.000000                 6.000000   \n",
       "75%      3749.500000    35.000000     4.000000                 8.000000   \n",
       "max      4999.000000   583.000000   583.000000                 9.000000   \n",
       "\n",
       "       no_of_missed_installments         amount    emi_amount  master_user_id  \\\n",
       "count                4999.000000    4999.000000   4999.000000     4999.000000   \n",
       "mean                    0.730546   32746.130026   4678.516005     1917.337267   \n",
       "std                     1.751810   20635.412033   2457.454784     1286.778384   \n",
       "min                     0.000000    4500.000000     26.560000        1.000000   \n",
       "25%                     0.000000   15000.000000   2770.960000      794.000000   \n",
       "50%                     0.000000   30000.000000   4165.520000     1711.000000   \n",
       "75%                     0.000000   50000.000000   6125.770000     2991.500000   \n",
       "max                     9.000000  200000.000000  34810.640000     4458.000000   \n",
       "\n",
       "            period  \n",
       "count  4999.000000  \n",
       "mean      7.312462  \n",
       "std       2.332845  \n",
       "min       3.000000  \n",
       "25%       6.000000  \n",
       "50%       9.000000  \n",
       "75%       9.000000  \n",
       "max      24.000000  "
      ]
     },
     "execution_count": 4,
     "metadata": {},
     "output_type": "execute_result"
    }
   ],
   "source": [
    "raw_loans.describe()"
   ]
  },
  {
   "cell_type": "code",
   "execution_count": 5,
   "metadata": {},
   "outputs": [
    {
     "data": {
      "text/plain": [
       "Index(['age', 'all_devices_count', 'assessment_rules', 'bank_sms_count',\n",
       "       'bureau', 'cc_american_express_count', 'cc_avg_days_between_txns',\n",
       "       'cc_avg_monthly_txn_amount_12m', 'cc_avg_monthly_txn_amount_1m',\n",
       "       'cc_avg_monthly_txn_amount_2m',\n",
       "       ...\n",
       "       'suit_filed_wilful_default_count_52', 'sum_overdue_amount_52',\n",
       "       'sum_overdue_amount_cc_52', 'sum_overdue_amount_non_cc_52',\n",
       "       'unsecured_inquiry_count_9', 'updated_at', 'version',\n",
       "       'wilful_default_count_52', 'written_off_count_52', 'line_amount'],\n",
       "      dtype='object', length=450)"
      ]
     },
     "execution_count": 5,
     "metadata": {},
     "output_type": "execute_result"
    }
   ],
   "source": [
    "raw_assessments.columns"
   ]
  },
  {
   "cell_type": "code",
   "execution_count": null,
   "metadata": {},
   "outputs": [],
   "source": []
  },
  {
   "cell_type": "code",
   "execution_count": null,
   "metadata": {},
   "outputs": [],
   "source": []
  },
  {
   "cell_type": "raw",
   "metadata": {},
   "source": []
  }
 ],
 "metadata": {
  "kernelspec": {
   "display_name": "Python 3",
   "language": "python",
   "name": "python3"
  },
  "language_info": {
   "codemirror_mode": {
    "name": "ipython",
    "version": 3
   },
   "file_extension": ".py",
   "mimetype": "text/x-python",
   "name": "python",
   "nbconvert_exporter": "python",
   "pygments_lexer": "ipython3",
   "version": "3.7.3"
  }
 },
 "nbformat": 4,
 "nbformat_minor": 2
}
